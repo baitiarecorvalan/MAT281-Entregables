{
  "cells": [
    {
      "cell_type": "markdown",
      "id": "e2696553",
      "metadata": {
        "id": "e2696553"
      },
      "source": [
        "<a href=\"https://colab.research.google.com/github/fralfaro/MAT281/blob/main/docs/labs/lab_01.ipynb\" target=\"_parent\"><img src=\"https://colab.research.google.com/assets/colab-badge.svg\" alt=\"Open In Colab\"/></a>\n",
        "\n",
        "\n",
        "# MAT281 - Laboratorio N°01\n",
        "\n",
        "#Baitiare Corvalan\n",
        "#Rol:202010513-8\n",
        "\n",
        "**Objetivos del Laboratorio**\n",
        "\n",
        "* Implementar funciones en Python para resolver problemas matemáticos clásicos.\n",
        "* Aplicar estructuras básicas como ciclos y condicionales en contextos numéricos.\n",
        "* Comprender y programar conceptos como series, factoriales, divisores, primos y secuencias.\n",
        "* Desarrollar pensamiento algorítmico y habilidades de resolución estructurada de problemas.\n"
      ]
    },
    {
      "cell_type": "markdown",
      "id": "a869ace0",
      "metadata": {
        "id": "a869ace0"
      },
      "source": [
        "## Problema 01 — Aproximando $\\pi$ con una serie infinita\n",
        "\n",
        "En los siglos XVII y XVIII, los matemáticos **James Gregory** y **Gottfried Leibniz** descubrieron una serie infinita que permite aproximar el valor de $\\pi$. Esta serie, conocida como la *serie de Gregory-Leibniz*, se expresa como:\n",
        "\n",
        "$$\n",
        "\\pi = 4 \\sum_{k=1}^{\\infty} \\frac{(-1)^{k+1}}{2k - 1} = 4\\left(1 - \\frac{1}{3} + \\frac{1}{5} - \\frac{1}{7} + \\cdots\\right)\n",
        "$$\n",
        "\n",
        "Esta fórmula converge lentamente, pero es útil para entender cómo se puede aproximar un número irracional como $\\pi$ mediante una suma finita.\n",
        "\n",
        "**Tu tarea**\n",
        "\n",
        "Implementa una **función llamada `calcular_pi(n)`** que reciba como argumento un número entero $n$ e **importe los primeros $n$ términos de la serie** para entregar una aproximación del valor de $\\pi$.\n",
        "\n",
        "\n",
        "\n",
        "\n",
        "\n",
        "**Ejemplos de uso**\n",
        "\n",
        "```python\n",
        "calcular_pi(3)     # Resultado esperado: 3.466666...\n",
        "calcular_pi(1000)  # Resultado esperado: ~3.140592...\n",
        "```\n",
        "\n",
        "**RESPUESTA**\n",
        "\n"
      ]
    },
    {
      "cell_type": "code",
      "execution_count": 1,
      "id": "dd54e855",
      "metadata": {
        "colab": {
          "base_uri": "https://localhost:8080/"
        },
        "id": "dd54e855",
        "outputId": "781b22ab-de4e-41a2-ec9d-46e30229748c"
      },
      "outputs": [
        {
          "output_type": "stream",
          "name": "stdout",
          "text": [
            "Ingrese un numero n para aproximar pi 3\n",
            "la aproximacion es  3.466666666666667\n"
          ]
        }
      ],
      "source": [
        "def calcular_pi(n):\n",
        "  sum=0\n",
        "  for k in range(1,n+1):\n",
        "    div=(((-1)**(k+1))/(2*k-1))\n",
        "    sum+=div\n",
        "  return 4*sum\n",
        "\n",
        "\n",
        "n=int(input(\"Ingrese un numero n para aproximar pi\"))\n",
        "print(\"la aproximacion es \", calcular_pi(n))"
      ]
    },
    {
      "cell_type": "markdown",
      "id": "c26be634",
      "metadata": {
        "id": "c26be634"
      },
      "source": [
        "\n",
        "## Problema 02 — Aproximando $e$ con la serie de Euler\n",
        "\n",
        "El número **$e$** es una constante matemática fundamental, al igual que $\\pi$. Se encuentra en el corazón del cálculo, el crecimiento exponencial y muchas aplicaciones científicas. Uno de sus grandes impulsores fue **Leonhard Euler**, quien en 1748 publicó su obra *Introductio in analysin infinitorum*, donde describió formalmente la siguiente serie infinita para aproximar su valor:\n",
        "\n",
        "$$\n",
        "e = \\sum_{k=0}^{\\infty} \\frac{1}{k!} = 1 + \\frac{1}{1!} + \\frac{1}{2!} + \\frac{1}{3!} + \\cdots\n",
        "$$\n",
        "\n",
        "Esta fórmula permite calcular $e$ sumando una cantidad finita de términos.\n",
        "\n",
        "\n",
        "\n",
        "**Tu tarea**\n",
        "\n",
        "1. **Parte A**: Define una función llamada `factorial(n)` que reciba un número natural $n$ y retorne el valor de su factorial $n! = 1 \\cdot 2 \\cdot \\ldots \\cdot n$.\n",
        "\n",
        "2. **Parte B**: Usando esa función, crea otra función llamada `calcular_e(n)` que reciba un número entero $n$ y devuelva una aproximación del número $e$ sumando los primeros $n$ términos de la serie.\n",
        "\n",
        "\n",
        "\n",
        "**Ejemplos de uso**\n",
        "\n",
        "```python\n",
        "factorial(3)     # Resultado esperado: 6\n",
        "factorial(5)     # Resultado esperado: 120\n",
        "\n",
        "calcular_e(3)     # Resultado esperado: 2.666...\n",
        "calcular_e(1000)  # Resultado esperado: ~2.718281828...\n",
        "```\n",
        "**RESPUESTA**"
      ]
    },
    {
      "cell_type": "code",
      "execution_count": 4,
      "id": "706d4c0a",
      "metadata": {
        "id": "706d4c0a",
        "colab": {
          "base_uri": "https://localhost:8080/"
        },
        "outputId": "4b33dc4f-f1b9-4428-f31f-9ced840ba328"
      },
      "outputs": [
        {
          "output_type": "stream",
          "name": "stdout",
          "text": [
            "Ingrese un numero m para obtener su factorial 3\n",
            "Ingrese un numero n para aproximar e 3\n",
            "el factorial es  6\n",
            "la aproximacion es  2.6666666666666665\n"
          ]
        }
      ],
      "source": [
        "def factorial(n):\n",
        "  mult=1\n",
        "  for k in range(1,n+1):\n",
        "    mult*=k\n",
        "  return mult\n",
        "\n",
        "def calcular_e(n):\n",
        "  sum=0\n",
        "  for k in range(0,n+1):\n",
        "    sum+=(1/(factorial(k)))\n",
        "  return sum\n",
        "\n",
        "\n",
        "m=int(input(\"Ingrese un numero m para obtener su factorial\"))\n",
        "n=int(input(\"Ingrese un numero n para aproximar e\"))\n",
        "print(\"el factorial es \",factorial(m))\n",
        "print(\"la aproximacion es \", calcular_e(n))"
      ]
    },
    {
      "cell_type": "markdown",
      "id": "9707be93",
      "metadata": {
        "id": "9707be93"
      },
      "source": [
        "## Problema 03 — Números amigos y suma de divisores propios\n",
        "\n",
        "Dado un número natural $n$, se define $\\sigma(n)$ como la **suma de sus divisores propios**, es decir, aquellos números positivos menores que $n$ que lo dividen exactamente.\n",
        "\n",
        "Dos números naturales $n_1$ y $n_2$ se consideran **números amigos** si cumplen la siguiente condición:\n",
        "\n",
        "$$\n",
        "\\sigma(n_1) = n_2 \\quad \\text{y} \\quad \\sigma(n_2) = n_1\n",
        "$$\n",
        "\n",
        "Un ejemplo clásico de números amigos es el par $220$ y $284$:\n",
        "\n",
        "* Los divisores propios de $220$ son: $1, 2, 4, 5, 10, 11, 20, 22, 44, 55, 110$, y su suma es $284$.\n",
        "* Los divisores propios de $284$ son: $1, 2, 4, 71, 142$, y su suma es $220$.\n",
        "\n",
        "**Tu tarea**\n",
        "\n",
        "1. **Parte A**: Define una función llamada `divisores_propios(n)` que reciba un número natural $n$ y retorne una **lista** con todos sus divisores propios.\n",
        "\n",
        "2. **Parte B**: Usando esa función, implementa una función llamada `amigos(n1, n2)` que retorne `True` si los números son amigos y `False` en caso contrario.\n",
        "\n",
        "**Ejemplos de uso**\n",
        "\n",
        "```python\n",
        "divisores_propios(220)  # Resultado esperado: [1, 2, 4, 5, 10, 11, 20, 22, 44, 55, 110]\n",
        "divisores_propios(284)  # Resultado esperado: [1, 2, 4, 71, 142]\n",
        "\n",
        "amigos(220, 284)        # Resultado esperado: True\n",
        "amigos(6, 5)            # Resultado esperado: False\n",
        "```\n",
        "\n",
        "**RESPUESTA**\n"
      ]
    },
    {
      "cell_type": "code",
      "execution_count": 8,
      "id": "e695ea21",
      "metadata": {
        "id": "e695ea21",
        "colab": {
          "base_uri": "https://localhost:8080/"
        },
        "outputId": "efd55859-0b0e-466b-b413-8b61e5ef1f96"
      },
      "outputs": [
        {
          "output_type": "stream",
          "name": "stdout",
          "text": [
            "Ingrese un numero n para obtener sus divisores propios 284\n",
            "Ingrese un numero n1 6\n",
            "Ingrese un numero n2 para saber si es amigo de n1 5\n",
            "Sus divisores son  [1, 2, 3]\n",
            "¿n1 y n2 son amigos?  False\n"
          ]
        }
      ],
      "source": [
        "def divisores_propios(n):\n",
        "  divs=[]\n",
        "  for k in range(1,n):\n",
        "    if n%k== 0:\n",
        "      divs.append(k)\n",
        "  return divs\n",
        "\n",
        "\n",
        "def amigos(n1,n2):\n",
        "  sum1=sum(divisores_propios(n1))\n",
        "  sum2=sum(divisores_propios(n2))\n",
        "  if sum1==n2 and sum2==n1:\n",
        "    return True\n",
        "  else:\n",
        "    return False\n",
        "\n",
        "n=int(input(\"Ingrese un numero n para obtener sus divisores propios\"))\n",
        "n1=int(input(\"Ingrese un numero n1\"))\n",
        "n2=int(input(\"Ingrese un numero n2 para saber si es amigo de n1\"))\n",
        "print(\"Sus divisores son \", divisores_propios(n1))\n",
        "print(\"¿n1 y n2 son amigos? \", amigos(n1,n2))\n"
      ]
    },
    {
      "cell_type": "markdown",
      "id": "cf93a039",
      "metadata": {
        "id": "cf93a039"
      },
      "source": [
        "## Problema 04 — La conjetura de Collatz\n",
        "\n",
        "La [conjetura de Collatz](https://en.wikipedia.org/wiki/Collatz_conjecture), también conocida como **conjetura $3n + 1$** o conjetura de Ulam, fue formulada por el matemático **Lothar Collatz** en 1937. A pesar de su sencillez, aún no ha sido demostrada ni refutada para todos los números naturales.\n",
        "\n",
        "La conjetura propone la siguiente regla, aplicable a cualquier número entero positivo:\n",
        "\n",
        "* Si el número es **par**, se divide por 2.\n",
        "* Si el número es **impar**, se multiplica por 3 y se le suma 1.\n",
        "\n",
        "Se repite esta operación con cada nuevo número obtenido. La conjetura afirma que, sin importar el número con el que se comience, **eventualmente se alcanzará el número 1**.\n",
        "\n",
        "**Tu tarea**\n",
        "\n",
        "Implementa una función llamada `collatz(n)` que reciba como argumento un número natural positivo $n$ y retorne una **lista con la secuencia de valores** generados por la conjetura, hasta llegar a 1.\n",
        "\n",
        "**Ejemplo de uso**\n",
        "\n",
        "```python\n",
        "collatz(9)  \n",
        "# Resultado esperado:\n",
        "# [9, 28, 14, 7, 22, 11, 34, 17, 52, 26, 13, 40, 20, 10, 5, 16, 8, 4, 2, 1]\n",
        "```\n",
        "\n",
        "**RESULTADO**"
      ]
    },
    {
      "cell_type": "code",
      "execution_count": 12,
      "id": "10501a00",
      "metadata": {
        "id": "10501a00",
        "colab": {
          "base_uri": "https://localhost:8080/"
        },
        "outputId": "2e511d9d-c614-4039-9d10-8b7188795dcd"
      },
      "outputs": [
        {
          "output_type": "stream",
          "name": "stdout",
          "text": [
            "Ingrese un numero n para obtener la lista9\n",
            "Sus divisores son  [9, 28, 14, 7, 22, 11, 34, 17, 52, 26, 13, 40, 20, 10, 5, 16, 8, 4, 2, 1]\n"
          ]
        }
      ],
      "source": [
        "def collatz(n):\n",
        "  if n>0:\n",
        "    sec=[n]\n",
        "    while n!=1:\n",
        "      if n%2==0:\n",
        "        n//=2\n",
        "      else:\n",
        "        n=(3*n)+1\n",
        "      sec.append(n)\n",
        "    return sec\n",
        "  elif n<=0:\n",
        "    return \"El numero debe ser un entero positivo, mayor a 0\"\n",
        "\n",
        "n=int(input(\"Ingrese un numero n para obtener la lista\"))\n",
        "print(\"Sus divisores son \", collatz(n))\n",
        "\n"
      ]
    },
    {
      "cell_type": "markdown",
      "id": "d15af4eb",
      "metadata": {
        "id": "d15af4eb"
      },
      "source": [
        "## Problema 05 — La conjetura de Goldbach\n",
        "\n",
        "La [conjetura de Goldbach](https://en.wikipedia.org/wiki/Goldbach%27s_conjecture) es uno de los problemas abiertos más antiguos y famosos de la teoría de números. Fue formulada por el matemático prusiano **Christian Goldbach** en una carta a Euler en 1742, y plantea lo siguiente:\n",
        "\n",
        "> **Todo número par mayor que 2 puede escribirse como la suma de dos números primos.**\n",
        "\n",
        "A pesar de que esta conjetura ha sido verificada para una gran cantidad de números, aún no existe una demostración formal que la confirme para todos los casos posibles.\n",
        "\n",
        "**Tu tarea**\n",
        "\n",
        "Implementa una función llamada `goldbach(n)` que reciba un número natural par mayor que 2 y retorne un par de números primos $n_1$ y $n_2$ tales que $n_1 + n_2 = n$.\n",
        "\n",
        "Para lograrlo, se recomienda dividir el problema en tres partes:\n",
        "\n",
        "1. **Parte A**: Define una función `es_primo(n)` que reciba un número natural $n$ y retorne `True` si es primo, y `False` en caso contrario.\n",
        "\n",
        "2. **Parte B**: Define una función `lista_de_primos(n)` que genere una lista con todos los números primos entre 2 y $n$ (inclusive si corresponde).\n",
        "\n",
        "3. **Parte C**: Utiliza la función anterior dentro de `goldbach(n)` para encontrar dos primos cuya suma sea igual a $n$. Puedes retornar el primer par que cumpla esta condición.\n",
        "\n",
        "**Ejemplos de uso**\n",
        "\n",
        "```python\n",
        "es_primo(3)         # Resultado esperado: True\n",
        "es_primo(4)         # Resultado esperado: False\n",
        "\n",
        "lista_de_primos(4)  # Resultado esperado: [2, 3]\n",
        "lista_de_primos(6)  # Resultado esperado: [2, 3, 5]\n",
        "lista_de_primos(8)  # Resultado esperado: [2, 3, 5, 7]\n",
        "\n",
        "goldbach(4)         # Resultado esperado: (2, 2)\n",
        "goldbach(6)         # Resultado esperado: (3, 3)\n",
        "goldbach(8)         # Resultado esperado: (3, 5)\n",
        "```\n",
        "\n",
        "**RESULTADOS**"
      ]
    },
    {
      "cell_type": "code",
      "execution_count": 13,
      "id": "cccb4ae0",
      "metadata": {
        "id": "cccb4ae0",
        "colab": {
          "base_uri": "https://localhost:8080/"
        },
        "outputId": "478306ba-ef59-4012-a97c-13bca0225fa6"
      },
      "outputs": [
        {
          "output_type": "stream",
          "name": "stdout",
          "text": [
            "Ingrese un numero n4\n",
            "¿n es primo?:  False\n",
            "lista de primos:  [2, 3]\n",
            "dos primos cuya suma es n  (2, 2)\n"
          ]
        }
      ],
      "source": [
        "def es_primo(n):\n",
        "  max=int((n**0.5)+1)\n",
        "  if n<2:\n",
        "    return False\n",
        "  for k in range(2,max):\n",
        "    if n%k ==0:\n",
        "      return False\n",
        "  return True\n",
        "\n",
        "def lista_de_primos(n):\n",
        "  primos=[]\n",
        "  for k in range(2,n+1):\n",
        "    if es_primo(k):\n",
        "      primos.append(k)\n",
        "  return primos\n",
        "\n",
        "def goldbach(n):\n",
        "  primos=lista_de_primos(n)\n",
        "  for p1 in primos:\n",
        "    p2=n-p1\n",
        "    if es_primo(p2):\n",
        "      return (p1,p2)\n",
        "  return \"no se encontro ninguno\"\n",
        "\n",
        "\n",
        "\n",
        "n=int(input(\"Ingrese un numero n\"))\n",
        "print(\"¿n es primo?: \", es_primo(n))\n",
        "print(\"lista de primos: \", lista_de_primos(n))\n",
        "print(\"dos primos cuya suma es n \", goldbach(n))"
      ]
    }
  ],
  "metadata": {
    "kernelspec": {
      "display_name": "Python 3 (ipykernel)",
      "language": "python",
      "name": "python3"
    },
    "language_info": {
      "codemirror_mode": {
        "name": "ipython",
        "version": 3
      },
      "file_extension": ".py",
      "mimetype": "text/x-python",
      "name": "python",
      "nbconvert_exporter": "python",
      "pygments_lexer": "ipython3",
      "version": "3.10.11"
    },
    "colab": {
      "provenance": []
    }
  },
  "nbformat": 4,
  "nbformat_minor": 5
}
